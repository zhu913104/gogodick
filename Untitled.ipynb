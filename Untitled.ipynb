{
 "cells": [
  {
   "cell_type": "code",
   "execution_count": 46,
   "metadata": {},
   "outputs": [],
   "source": [
    "%matplotlib inline\n",
    "\n",
    "\n",
    "import numpy as np\n",
    "import matplotlib.pyplot as plt"
   ]
  },
  {
   "cell_type": "code",
   "execution_count": 51,
   "metadata": {},
   "outputs": [],
   "source": [
    "x = np.array(range(256))\n"
   ]
  },
  {
   "cell_type": "code",
   "execution_count": 52,
   "metadata": {},
   "outputs": [],
   "source": [
    "def efff(x,m):    \n",
    "    y = np.array((x**m)/(255**m)*255,dtype=np.uint8)\n",
    "    return y"
   ]
  },
  {
   "cell_type": "code",
   "execution_count": 53,
   "metadata": {},
   "outputs": [],
   "source": [
    "y=efff(x,0.2)"
   ]
  },
  {
   "cell_type": "code",
   "execution_count": 54,
   "metadata": {},
   "outputs": [
    {
     "data": {
      "text/plain": [
       "[<matplotlib.lines.Line2D at 0x1bd4818c0f0>]"
      ]
     },
     "execution_count": 54,
     "metadata": {},
     "output_type": "execute_result"
    },
    {
     "data": {
      "image/png": "[encoded data removed]",
      "text/plain": [
       "<matplotlib.figure.Figure at 0x1bd47fe6f98>"
      ]
     },
     "metadata": {},
     "output_type": "display_data"
    }
   ],
   "source": [
    "fig = plt.figure()\n",
    "plt.plot(x, y, color='blue', linewidth=3)\n",
    "\n"
   ]
  },
  {
   "cell_type": "code",
   "execution_count": 17,
   "metadata": {},
   "outputs": [
    {
     "data": {
      "text/plain": [
       "1162523670191533212890625"
      ]
     },
     "execution_count": 17,
     "metadata": {},
     "output_type": "execute_result"
    }
   ],
   "source": [
    "255**10"
   ]
  },
  {
   "cell_type": "code",
   "execution_count": 18,
   "metadata": {},
   "outputs": [
    {
     "data": {
      "text/plain": [
       "1162523670191533212890625"
      ]
     },
     "execution_count": 18,
     "metadata": {},
     "output_type": "execute_result"
    }
   ],
   "source": [
    "255**m"
   ]
  },
  {
   "cell_type": "code",
   "execution_count": 19,
   "metadata": {},
   "outputs": [
    {
     "data": {
      "text/plain": [
       "-2010319359"
      ]
     },
     "execution_count": 19,
     "metadata": {},
     "output_type": "execute_result"
    }
   ],
   "source": [
    "x.max()**10"
   ]
  },
  {
   "cell_type": "code",
   "execution_count": 25,
   "metadata": {},
   "outputs": [
    {
     "data": {
      "text/plain": [
       "array([          0,           1,          16,          81,         256,\n",
       "               625,        1296,        2401,        4096,        6561,\n",
       "             10000,       14641,       20736,       28561,       38416,\n",
       "             50625,       65536,       83521,      104976,      130321,\n",
       "            160000,      194481,      234256,      279841,      331776,\n",
       "            390625,      456976,      531441,      614656,      707281,\n",
       "            810000,      923521,     1048576,     1185921,     1336336,\n",
       "           1500625,     1679616,     1874161,     2085136,     2313441,\n",
       "           2560000,     2825761,     3111696,     3418801,     3748096,\n",
       "           4100625,     4477456,     4879681,     5308416,     5764801,\n",
       "           6250000,     6765201,     7311616,     7890481,     8503056,\n",
       "           9150625,     9834496,    10556001,    11316496,    12117361,\n",
       "          12960000,    13845841,    14776336,    15752961,    16777216,\n",
       "          17850625,    18974736,    20151121,    21381376,    22667121,\n",
       "          24010000,    25411681,    26873856,    28398241,    29986576,\n",
       "          31640625,    33362176,    35153041,    37015056,    38950081,\n",
       "          40960000,    43046721,    45212176,    47458321,    49787136,\n",
       "          52200625,    54700816,    57289761,    59969536,    62742241,\n",
       "          65610000,    68574961,    71639296,    74805201,    78074896,\n",
       "          81450625,    84934656,    88529281,    92236816,    96059601,\n",
       "         100000000,   104060401,   108243216,   112550881,   116985856,\n",
       "         121550625,   126247696,   131079601,   136048896,   141158161,\n",
       "         146410000,   151807041,   157351936,   163047361,   168896016,\n",
       "         174900625,   181063936,   187388721,   193877776,   200533921,\n",
       "         207360000,   214358881,   221533456,   228886641,   236421376,\n",
       "         244140625,   252047376,   260144641,   268435456,   276922881,\n",
       "         285610000,   294499921,   303595776,   312900721,   322417936,\n",
       "         332150625,   342102016,   352275361,   362673936,   373301041,\n",
       "         384160000,   395254161,   406586896,   418161601,   429981696,\n",
       "         442050625,   454371856,   466948881,   479785216,   492884401,\n",
       "         506250000,   519885601,   533794816,   547981281,   562448656,\n",
       "         577200625,   592240896,   607573201,   623201296,   639128961,\n",
       "         655360000,   671898241,   688747536,   705911761,   723394816,\n",
       "         741200625,   759333136,   777796321,   796594176,   815730721,\n",
       "         835210000,   855036081,   875213056,   895745041,   916636176,\n",
       "         937890625,   959512576,   981506241,  1003875856,  1026625681,\n",
       "        1049760000,  1073283121,  1097199376,  1121513121,  1146228736,\n",
       "        1171350625,  1196883216,  1222830961,  1249198336,  1275989841,\n",
       "        1303210000,  1330863361,  1358954496,  1387488001,  1416468496,\n",
       "        1445900625,  1475789056,  1506138481,  1536953616,  1568239201,\n",
       "        1600000000,  1632240801,  1664966416,  1698181681,  1731891456,\n",
       "        1766100625,  1800814096,  1836036801,  1871773696,  1908029761,\n",
       "        1944810000,  1982119441,  2019963136,  2058346161,  2097273616,\n",
       "        2136750625, -2118184960, -2077593375, -2036436720, -1994709775,\n",
       "       -1952407296, -1909524015, -1866054640, -1821993855, -1777336320,\n",
       "       -1732076671, -1686209520, -1639729455, -1592631040, -1544908815,\n",
       "       -1496557296, -1447570975, -1397944320, -1347671775, -1296747760,\n",
       "       -1245166671, -1192922880, -1140010735, -1086424560, -1032158655,\n",
       "        -977207296,  -921564735,  -865225200,  -808182895,  -750432000,\n",
       "        -691966671,  -632781040,  -572869215,  -512225280,  -450843295,\n",
       "        -388717296,  -325841295,  -262209280,  -197815215,  -132653040,\n",
       "         -66716671], dtype=int32)"
      ]
     },
     "execution_count": 25,
     "metadata": {},
     "output_type": "execute_result"
    }
   ],
   "source": [
    "x**4"
   ]
  },
  {
   "cell_type": "code",
   "execution_count": null,
   "metadata": {},
   "outputs": [],
   "source": []
  }
 ],
 "metadata": {
  "kernelspec": {
   "display_name": "Python 3",
   "language": "python",
   "name": "python3"
  },
  "language_info": {
   "codemirror_mode": {
    "name": "ipython",
    "version": 3
   },
   "file_extension": ".py",
   "mimetype": "text/x-python",
   "name": "python",
   "nbconvert_exporter": "python",
   "pygments_lexer": "ipython3",
   "version": "3.6.4"
  }
 },
 "nbformat": 4,
 "nbformat_minor": 2
}
